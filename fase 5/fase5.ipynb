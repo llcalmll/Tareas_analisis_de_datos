{
 "cells": [
  {
   "cell_type": "code",
   "execution_count": 1,
   "id": "36ee42ee-be87-4d86-8a10-d14b9438c21c",
   "metadata": {},
   "outputs": [],
   "source": [
    "#importanto bibliotecas\n",
    "import numpy as np\n",
    "import pandas as pd\n",
    "import seaborn as sns \n",
    "import matplotlib.pyplot as plt\n",
    "\n",
    "#librerías modelos de ciencia de datos\n",
    "from sklearn import metrics \n",
    "from sklearn.model_selection import train_test_split\n",
    "from sklearn.linear_model import LogisticRegression\n",
    "from sklearn.metrics import classification_report, confusion_matrix"
   ]
  },
  {
   "cell_type": "code",
   "execution_count": 96,
   "id": "48ce536d-cf12-477f-bce3-0303a70e6ac4",
   "metadata": {},
   "outputs": [],
   "source": [
    "#Lectura de datos en python\n",
    "\n",
    "datos = pd.read_csv(\"datasetsinnan.csv\")"
   ]
  },
  {
   "cell_type": "code",
   "execution_count": 97,
   "id": "537d1dd6-4239-458e-b623-8b6a9b7a0b2f",
   "metadata": {},
   "outputs": [
    {
     "data": {
      "text/html": [
       "<div>\n",
       "<style scoped>\n",
       "    .dataframe tbody tr th:only-of-type {\n",
       "        vertical-align: middle;\n",
       "    }\n",
       "\n",
       "    .dataframe tbody tr th {\n",
       "        vertical-align: top;\n",
       "    }\n",
       "\n",
       "    .dataframe thead th {\n",
       "        text-align: right;\n",
       "    }\n",
       "</style>\n",
       "<table border=\"1\" class=\"dataframe\">\n",
       "  <thead>\n",
       "    <tr style=\"text-align: right;\">\n",
       "      <th></th>\n",
       "      <th>PassengerId</th>\n",
       "      <th>Survived</th>\n",
       "      <th>Pclass</th>\n",
       "      <th>Name</th>\n",
       "      <th>Sex</th>\n",
       "      <th>Age</th>\n",
       "      <th>SibSp</th>\n",
       "      <th>Parch</th>\n",
       "      <th>Ticket</th>\n",
       "      <th>Fare</th>\n",
       "      <th>Cabin</th>\n",
       "      <th>Embarked</th>\n",
       "    </tr>\n",
       "  </thead>\n",
       "  <tbody>\n",
       "    <tr>\n",
       "      <th>0</th>\n",
       "      <td>2</td>\n",
       "      <td>1</td>\n",
       "      <td>1</td>\n",
       "      <td>Cumings, Mrs. John Bradley (Florence Briggs Th...</td>\n",
       "      <td>female</td>\n",
       "      <td>38.0</td>\n",
       "      <td>1</td>\n",
       "      <td>0</td>\n",
       "      <td>PC 17599</td>\n",
       "      <td>71.2833</td>\n",
       "      <td>C85</td>\n",
       "      <td>C</td>\n",
       "    </tr>\n",
       "    <tr>\n",
       "      <th>1</th>\n",
       "      <td>4</td>\n",
       "      <td>1</td>\n",
       "      <td>1</td>\n",
       "      <td>Futrelle, Mrs. Jacques Heath (Lily May Peel)</td>\n",
       "      <td>female</td>\n",
       "      <td>35.0</td>\n",
       "      <td>1</td>\n",
       "      <td>0</td>\n",
       "      <td>113803</td>\n",
       "      <td>53.1000</td>\n",
       "      <td>C123</td>\n",
       "      <td>S</td>\n",
       "    </tr>\n",
       "    <tr>\n",
       "      <th>2</th>\n",
       "      <td>7</td>\n",
       "      <td>0</td>\n",
       "      <td>1</td>\n",
       "      <td>McCarthy, Mr. Timothy J</td>\n",
       "      <td>male</td>\n",
       "      <td>54.0</td>\n",
       "      <td>0</td>\n",
       "      <td>0</td>\n",
       "      <td>17463</td>\n",
       "      <td>51.8625</td>\n",
       "      <td>E46</td>\n",
       "      <td>S</td>\n",
       "    </tr>\n",
       "    <tr>\n",
       "      <th>3</th>\n",
       "      <td>11</td>\n",
       "      <td>1</td>\n",
       "      <td>3</td>\n",
       "      <td>Sandstrom, Miss. Marguerite Rut</td>\n",
       "      <td>female</td>\n",
       "      <td>4.0</td>\n",
       "      <td>1</td>\n",
       "      <td>1</td>\n",
       "      <td>PP 9549</td>\n",
       "      <td>16.7000</td>\n",
       "      <td>G6</td>\n",
       "      <td>S</td>\n",
       "    </tr>\n",
       "    <tr>\n",
       "      <th>4</th>\n",
       "      <td>12</td>\n",
       "      <td>1</td>\n",
       "      <td>1</td>\n",
       "      <td>Bonnell, Miss. Elizabeth</td>\n",
       "      <td>female</td>\n",
       "      <td>58.0</td>\n",
       "      <td>0</td>\n",
       "      <td>0</td>\n",
       "      <td>113783</td>\n",
       "      <td>26.5500</td>\n",
       "      <td>C103</td>\n",
       "      <td>S</td>\n",
       "    </tr>\n",
       "  </tbody>\n",
       "</table>\n",
       "</div>"
      ],
      "text/plain": [
       "   PassengerId  Survived  Pclass  \\\n",
       "0            2         1       1   \n",
       "1            4         1       1   \n",
       "2            7         0       1   \n",
       "3           11         1       3   \n",
       "4           12         1       1   \n",
       "\n",
       "                                                Name     Sex   Age  SibSp  \\\n",
       "0  Cumings, Mrs. John Bradley (Florence Briggs Th...  female  38.0      1   \n",
       "1       Futrelle, Mrs. Jacques Heath (Lily May Peel)  female  35.0      1   \n",
       "2                            McCarthy, Mr. Timothy J    male  54.0      0   \n",
       "3                    Sandstrom, Miss. Marguerite Rut  female   4.0      1   \n",
       "4                           Bonnell, Miss. Elizabeth  female  58.0      0   \n",
       "\n",
       "   Parch    Ticket     Fare Cabin Embarked  \n",
       "0      0  PC 17599  71.2833   C85        C  \n",
       "1      0    113803  53.1000  C123        S  \n",
       "2      0     17463  51.8625   E46        S  \n",
       "3      1   PP 9549  16.7000    G6        S  \n",
       "4      0    113783  26.5500  C103        S  "
      ]
     },
     "execution_count": 97,
     "metadata": {},
     "output_type": "execute_result"
    }
   ],
   "source": [
    "datos.head(5)"
   ]
  },
  {
   "cell_type": "code",
   "execution_count": 98,
   "id": "ab4020a0-2557-42f3-ae80-6ff00e317b76",
   "metadata": {},
   "outputs": [],
   "source": [
    "datos = datos.drop(['Name', 'Ticket', 'Cabin','Embarked','Sex'], axis=1)"
   ]
  },
  {
   "cell_type": "code",
   "execution_count": 99,
   "id": "293bf377-2746-4a13-be39-9abdd4a1d2da",
   "metadata": {},
   "outputs": [
    {
     "data": {
      "text/html": [
       "<div>\n",
       "<style scoped>\n",
       "    .dataframe tbody tr th:only-of-type {\n",
       "        vertical-align: middle;\n",
       "    }\n",
       "\n",
       "    .dataframe tbody tr th {\n",
       "        vertical-align: top;\n",
       "    }\n",
       "\n",
       "    .dataframe thead th {\n",
       "        text-align: right;\n",
       "    }\n",
       "</style>\n",
       "<table border=\"1\" class=\"dataframe\">\n",
       "  <thead>\n",
       "    <tr style=\"text-align: right;\">\n",
       "      <th></th>\n",
       "      <th>PassengerId</th>\n",
       "      <th>Survived</th>\n",
       "      <th>Pclass</th>\n",
       "      <th>Age</th>\n",
       "      <th>SibSp</th>\n",
       "      <th>Parch</th>\n",
       "      <th>Fare</th>\n",
       "    </tr>\n",
       "  </thead>\n",
       "  <tbody>\n",
       "    <tr>\n",
       "      <th>count</th>\n",
       "      <td>202.000000</td>\n",
       "      <td>202.000000</td>\n",
       "      <td>202.000000</td>\n",
       "      <td>202.000000</td>\n",
       "      <td>202.000000</td>\n",
       "      <td>202.000000</td>\n",
       "      <td>202.000000</td>\n",
       "    </tr>\n",
       "    <tr>\n",
       "      <th>mean</th>\n",
       "      <td>455.495050</td>\n",
       "      <td>0.663366</td>\n",
       "      <td>1.198020</td>\n",
       "      <td>35.112392</td>\n",
       "      <td>0.445545</td>\n",
       "      <td>0.440594</td>\n",
       "      <td>76.103301</td>\n",
       "    </tr>\n",
       "    <tr>\n",
       "      <th>std</th>\n",
       "      <td>249.704228</td>\n",
       "      <td>0.473732</td>\n",
       "      <td>0.528205</td>\n",
       "      <td>14.988475</td>\n",
       "      <td>0.630490</td>\n",
       "      <td>0.732294</td>\n",
       "      <td>74.759941</td>\n",
       "    </tr>\n",
       "    <tr>\n",
       "      <th>min</th>\n",
       "      <td>2.000000</td>\n",
       "      <td>0.000000</td>\n",
       "      <td>1.000000</td>\n",
       "      <td>0.920000</td>\n",
       "      <td>0.000000</td>\n",
       "      <td>0.000000</td>\n",
       "      <td>0.000000</td>\n",
       "    </tr>\n",
       "    <tr>\n",
       "      <th>25%</th>\n",
       "      <td>263.250000</td>\n",
       "      <td>0.000000</td>\n",
       "      <td>1.000000</td>\n",
       "      <td>25.000000</td>\n",
       "      <td>0.000000</td>\n",
       "      <td>0.000000</td>\n",
       "      <td>28.959375</td>\n",
       "    </tr>\n",
       "    <tr>\n",
       "      <th>50%</th>\n",
       "      <td>457.500000</td>\n",
       "      <td>1.000000</td>\n",
       "      <td>1.000000</td>\n",
       "      <td>33.500000</td>\n",
       "      <td>0.000000</td>\n",
       "      <td>0.000000</td>\n",
       "      <td>55.000000</td>\n",
       "    </tr>\n",
       "    <tr>\n",
       "      <th>75%</th>\n",
       "      <td>681.500000</td>\n",
       "      <td>1.000000</td>\n",
       "      <td>1.000000</td>\n",
       "      <td>46.750000</td>\n",
       "      <td>1.000000</td>\n",
       "      <td>1.000000</td>\n",
       "      <td>89.776050</td>\n",
       "    </tr>\n",
       "    <tr>\n",
       "      <th>max</th>\n",
       "      <td>890.000000</td>\n",
       "      <td>1.000000</td>\n",
       "      <td>3.000000</td>\n",
       "      <td>80.000000</td>\n",
       "      <td>3.000000</td>\n",
       "      <td>4.000000</td>\n",
       "      <td>512.329200</td>\n",
       "    </tr>\n",
       "  </tbody>\n",
       "</table>\n",
       "</div>"
      ],
      "text/plain": [
       "       PassengerId    Survived      Pclass         Age       SibSp  \\\n",
       "count   202.000000  202.000000  202.000000  202.000000  202.000000   \n",
       "mean    455.495050    0.663366    1.198020   35.112392    0.445545   \n",
       "std     249.704228    0.473732    0.528205   14.988475    0.630490   \n",
       "min       2.000000    0.000000    1.000000    0.920000    0.000000   \n",
       "25%     263.250000    0.000000    1.000000   25.000000    0.000000   \n",
       "50%     457.500000    1.000000    1.000000   33.500000    0.000000   \n",
       "75%     681.500000    1.000000    1.000000   46.750000    1.000000   \n",
       "max     890.000000    1.000000    3.000000   80.000000    3.000000   \n",
       "\n",
       "            Parch        Fare  \n",
       "count  202.000000  202.000000  \n",
       "mean     0.440594   76.103301  \n",
       "std      0.732294   74.759941  \n",
       "min      0.000000    0.000000  \n",
       "25%      0.000000   28.959375  \n",
       "50%      0.000000   55.000000  \n",
       "75%      1.000000   89.776050  \n",
       "max      4.000000  512.329200  "
      ]
     },
     "execution_count": 99,
     "metadata": {},
     "output_type": "execute_result"
    }
   ],
   "source": [
    "#descripción de los datos\n",
    "datos.describe()"
   ]
  },
  {
   "cell_type": "code",
   "execution_count": 100,
   "id": "7d912a81-80d2-4ad1-a54a-b1ce3adc5452",
   "metadata": {},
   "outputs": [
    {
     "data": {
      "text/plain": [
       "Text(0.5, 1.0, 'identificación de datos fatantes y atipicos')"
      ]
     },
     "execution_count": 100,
     "metadata": {},
     "output_type": "execute_result"
    },
    {
     "data": {
      "image/png": "[encoded data removed]",
      "text/plain": [
       "<Figure size 600x300 with 1 Axes>"
      ]
     },
     "metadata": {},
     "output_type": "display_data"
    }
   ],
   "source": [
    "#identificación datos faltantes y atipicos\n",
    "\n",
    "plt.figure(figsize=(6,3))\n",
    "sns.boxplot(x=datos[\"Fare\"])\n",
    "plt.title(\"identificación de datos fatantes y atipicos\")\n"
   ]
  },
  {
   "cell_type": "code",
   "execution_count": 101,
   "id": "7ec587d5-8dcf-4276-89bf-3c1626953388",
   "metadata": {},
   "outputs": [
    {
     "data": {
      "text/plain": [
       "Text(0.5, 1.0, 'identificación de datos fatantes y atipicos')"
      ]
     },
     "execution_count": 101,
     "metadata": {},
     "output_type": "execute_result"
    },
    {
     "data": {
      "image/png": "[encoded data removed]",
      "text/plain": [
       "<Figure size 600x300 with 1 Axes>"
      ]
     },
     "metadata": {},
     "output_type": "display_data"
    }
   ],
   "source": [
    "plt.figure(figsize=(6,3))\n",
    "sns.boxplot(x=datos[\"Fare\"])\n",
    "plt.title(\"identificación de datos fatantes y atipicos\")\n"
   ]
  },
  {
   "cell_type": "code",
   "execution_count": 102,
   "id": "9f604b5d-60f2-4522-b318-d0c9ec1e89d5",
   "metadata": {},
   "outputs": [
    {
     "name": "stdout",
     "output_type": "stream",
     "text": [
      "cantidad de registro en Factura 3\n",
      "cantidad de registro en edad 0\n"
     ]
    }
   ],
   "source": [
    "#procesar los datos limpiándolos segun sea necesario\n",
    "\n",
    "print(\"cantidad de registro en Factura\", datos[\"Fare\"].isin([0]).sum())\n",
    "\n",
    "print(\"cantidad de registro en edad\", datos[\"Age\"].isin([0]).sum())\n"
   ]
  },
  {
   "cell_type": "code",
   "execution_count": 103,
   "id": "da237dcd-fdad-4539-93cb-b8dcbc3e4ef6",
   "metadata": {},
   "outputs": [
    {
     "name": "stdout",
     "output_type": "stream",
     "text": [
      "el total de datos atipicos es  2\n"
     ]
    }
   ],
   "source": [
    "\n",
    "#Conteo datos atipicos\n",
    "\n",
    "\n",
    "nivel_minimo =0\n",
    "nivel_maximo =500\n",
    "\n",
    "total_atipicos = ((datos [\"Fare\"]<nivel_minimo) | (datos[\"Fare\"]>nivel_maximo)).sum()\n",
    "print(\"el total de datos atipicos es \",format(total_atipicos))\n"
   ]
  },
  {
   "cell_type": "code",
   "execution_count": 104,
   "id": "9d29e1e2-997c-47c1-97e1-902fe7d9dabf",
   "metadata": {},
   "outputs": [],
   "source": [
    "#filtrar datos atipicos\n",
    "\n",
    "datos = datos[(datos[\"Fare\"]<nivel_maximo)&(datos[\"Fare\"]>nivel_minimo)]\n",
    "\n"
   ]
  },
  {
   "cell_type": "code",
   "execution_count": 105,
   "id": "9ce66c76-8cf9-487b-9de9-71ca9cec292c",
   "metadata": {},
   "outputs": [
    {
     "name": "stdout",
     "output_type": "stream",
     "text": [
      "el total de datos atipicos es  0\n"
     ]
    }
   ],
   "source": [
    "#validar si se r3movieron los datos atipicos\n",
    "\n",
    "total_atipicos = ((datos[\"Fare\"]<nivel_minimo) | (datos[\"Fare\"]>nivel_maximo)).sum()\n",
    "\n",
    "print(\"el total de datos atipicos es \",format(total_atipicos))\n",
    "\n",
    "\n",
    "\n"
   ]
  },
  {
   "cell_type": "code",
   "execution_count": 106,
   "id": "0b72cb5c-85e5-4329-95e8-2f2723927789",
   "metadata": {},
   "outputs": [
    {
     "name": "stdout",
     "output_type": "stream",
     "text": [
      "<class 'pandas.core.frame.DataFrame'>\n",
      "Index: 197 entries, 0 to 201\n",
      "Data columns (total 7 columns):\n",
      " #   Column       Non-Null Count  Dtype  \n",
      "---  ------       --------------  -----  \n",
      " 0   PassengerId  197 non-null    int64  \n",
      " 1   Survived     197 non-null    int64  \n",
      " 2   Pclass       197 non-null    int64  \n",
      " 3   Age          197 non-null    float64\n",
      " 4   SibSp        197 non-null    int64  \n",
      " 5   Parch        197 non-null    int64  \n",
      " 6   Fare         197 non-null    float64\n",
      "dtypes: float64(2), int64(5)\n",
      "memory usage: 12.3 KB\n"
     ]
    }
   ],
   "source": [
    "#tipo de datos y datos faltantes\n",
    "datos.info()"
   ]
  },
  {
   "cell_type": "code",
   "execution_count": 107,
   "id": "6454b5bc-9285-47ac-bca8-f84ba5c50dd9",
   "metadata": {},
   "outputs": [
    {
     "data": {
      "text/plain": [
       "Survived\n",
       "1    132\n",
       "0     65\n",
       "Name: count, dtype: int64"
      ]
     },
     "execution_count": 107,
     "metadata": {},
     "output_type": "execute_result"
    }
   ],
   "source": [
    "#total se personas que sobrevivieron\n",
    "\n",
    "datos[\"Survived\"].value_counts()\n",
    "\n"
   ]
  },
  {
   "cell_type": "code",
   "execution_count": 108,
   "id": "70ae857c-81b4-41b2-aeae-2e62c933ed8a",
   "metadata": {},
   "outputs": [
    {
     "data": {
      "text/plain": [
       "0     1\n",
       "1     1\n",
       "2     0\n",
       "3     1\n",
       "4     1\n",
       "5     1\n",
       "6     1\n",
       "7     0\n",
       "8     1\n",
       "9     1\n",
       "10    0\n",
       "11    1\n",
       "12    0\n",
       "13    1\n",
       "14    0\n",
       "15    1\n",
       "16    0\n",
       "17    0\n",
       "18    1\n",
       "19    0\n",
       "Name: Survived, dtype: int64"
      ]
     },
     "execution_count": 108,
     "metadata": {},
     "output_type": "execute_result"
    }
   ],
   "source": [
    "datos[\"Survived\"].head(20)"
   ]
  },
  {
   "cell_type": "code",
   "execution_count": 109,
   "id": "21bc6727-33ee-497b-9763-3a69f369e9e0",
   "metadata": {},
   "outputs": [
    {
     "name": "stdout",
     "output_type": "stream",
     "text": [
      "     PassengerId  Pclass   Age  SibSp  Parch      Fare\n",
      "127          572       1  53.0      2      0   51.4792\n",
      "61           300       1  50.0      0      1  247.5208\n",
      "14            76       3  25.0      0      0    7.6500\n",
      "36           194       2   3.0      1      1   26.0000\n",
      "145          648       1  56.0      0      0   35.5000\n",
      "..           ...     ...   ...    ...    ...       ...\n",
      "5             22       2  34.0      0      0   13.0000\n",
      "74           333       1  38.0      0      1  153.4625\n",
      "86           378       1  27.0      0      2  211.5000\n",
      "65           310       1  30.0      0      0   56.9292\n",
      "71           328       2  36.0      0      0   13.0000\n",
      "\n",
      "[147 rows x 6 columns]\n"
     ]
    }
   ],
   "source": [
    "#dividir el dataset en train y en test para evaluar correctamente\n",
    "\n",
    "#se crean variables x,y para evaluar la info del entrenamiento\n",
    "\n",
    "X = datos.drop(\"Survived\", axis= 1) #se cargan los datos sin la columna de condition\n",
    "\n",
    "Y= datos[\"Survived\"] #datos de train con datos de columna condition\n",
    "\n",
    "#La funcion train_test_split c43a una division ennjn vknjunto de datos en dos bloques, uno entrenamiento y otro de prueba\n",
    "\n",
    "X_train, X_test, Y_train, Y_test = train_test_split(X, Y, test_size=0.25, stratify=Y, random_state= 0)\n",
    "\n",
    "print(X_train)"
   ]
  },
  {
   "cell_type": "code",
   "execution_count": 110,
   "id": "e395e009-e137-448e-b82c-95b4d35f8349",
   "metadata": {},
   "outputs": [],
   "source": [
    "#construir modelo rgreesuon logistca\n",
    "\n",
    "modelo_regresion = LogisticRegression(solver = \"liblinear\")\n",
    "modelo_regresion.fit(X_train, Y_train)\n",
    "\n",
    "#crea modelo de prediccion\n",
    "prediccion = modelo_regresion.predict(X_test) #la funcion predict predice los valores a partir del conjunto de datos de validacion\n"
   ]
  },
  {
   "cell_type": "code",
   "execution_count": 40,
   "id": "0ba71929-9141-497a-b6f0-28150f2db87e",
   "metadata": {},
   "outputs": [
    {
     "name": "stdout",
     "output_type": "stream",
     "text": [
      "112    0\n",
      "250    1\n",
      "240    1\n",
      "211    1\n",
      "285    0\n",
      "      ..\n",
      "172    0\n",
      "136    1\n",
      "138    0\n",
      "201    1\n",
      "258    1\n",
      "Name: condition, Length: 74, dtype: int64\n"
     ]
    }
   ],
   "source": [
    "print(Y_test)"
   ]
  },
  {
   "cell_type": "code",
   "execution_count": 111,
   "id": "b983c735-f55a-4ef4-80a5-923c08615cdd",
   "metadata": {},
   "outputs": [
    {
     "name": "stdout",
     "output_type": "stream",
     "text": [
      "[1 0 1 0 1 1 1 1 0 1 0 1 1 0 1 1 1 1 1 1 1 1 1 1 1 0 1 1 1 1 0 0 1 1 1 1 1\n",
      " 1 1 0 1 1 1 1 1 1 1 1 1 0]\n"
     ]
    }
   ],
   "source": [
    "print(prediccion)"
   ]
  },
  {
   "cell_type": "code",
   "execution_count": 112,
   "id": "1fca7c31-8cb5-40db-a50f-51de59a8466b",
   "metadata": {},
   "outputs": [
    {
     "name": "stdout",
     "output_type": "stream",
     "text": [
      "              precision    recall  f1-score   support\n",
      "\n",
      "           0       0.60      0.38      0.46        16\n",
      "           1       0.75      0.88      0.81        34\n",
      "\n",
      "    accuracy                           0.72        50\n",
      "   macro avg       0.68      0.63      0.64        50\n",
      "weighted avg       0.70      0.72      0.70        50\n",
      "\n"
     ]
    }
   ],
   "source": [
    "#desempeño modelo de regresiom\n",
    "\n",
    "print(classification_report(Y_test, prediccion))"
   ]
  },
  {
   "cell_type": "code",
   "execution_count": 113,
   "id": "24a66926-7482-4be0-a88e-fd1c1f36dfa7",
   "metadata": {},
   "outputs": [
    {
     "data": {
      "text/plain": [
       "<sklearn.metrics._plot.confusion_matrix.ConfusionMatrixDisplay at 0x2285b927b90>"
      ]
     },
     "execution_count": 113,
     "metadata": {},
     "output_type": "execute_result"
    },
    {
     "data": {
      "image/png": "[encoded data removed]",
      "text/plain": [
       "<Figure size 640x480 with 2 Axes>"
      ]
     },
     "metadata": {},
     "output_type": "display_data"
    }
   ],
   "source": [
    "#matriz de confusion del modelo\n",
    "\n",
    "cm =confusion_matrix(Y_test, prediccion)\n",
    "disp = metrics.ConfusionMatrixDisplay(confusion_matrix=cm)\n",
    "disp.plot()"
   ]
  },
  {
   "cell_type": "code",
   "execution_count": 114,
   "id": "38dfe3dd-007d-4afd-af15-4844ba502383",
   "metadata": {},
   "outputs": [
    {
     "data": {
      "image/png": "[encoded data removed]",
      "text/plain": [
       "<Figure size 640x480 with 1 Axes>"
      ]
     },
     "metadata": {},
     "output_type": "display_data"
    }
   ],
   "source": [
    "#curva presicion del modelo\n",
    "\n",
    "from sklearn.metrics import RocCurveDisplay\n",
    "RocCurveDisplay.from_predictions(Y_test, prediccion)\n",
    "\n",
    "plt.show()"
   ]
  },
  {
   "cell_type": "code",
   "execution_count": null,
   "id": "40442432-f612-4734-9fb0-7f94883c3822",
   "metadata": {},
   "outputs": [],
   "source": []
  }
 ],
 "metadata": {
  "kernelspec": {
   "display_name": "Python 3 (ipykernel)",
   "language": "python",
   "name": "python3"
  },
  "language_info": {
   "codemirror_mode": {
    "name": "ipython",
    "version": 3
   },
   "file_extension": ".py",
   "mimetype": "text/x-python",
   "name": "python",
   "nbconvert_exporter": "python",
   "pygments_lexer": "ipython3",
   "version": "3.12.7"
  }
 },
 "nbformat": 4,
 "nbformat_minor": 5
}
